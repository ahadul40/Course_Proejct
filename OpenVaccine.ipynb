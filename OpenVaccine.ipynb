{
  "nbformat": 4,
  "nbformat_minor": 0,
  "metadata": {
    "colab": {
      "name": "OpenVaccine",
      "provenance": [],
      "collapsed_sections": [],
      "toc_visible": true
    },
    "kernelspec": {
      "name": "python3",
      "display_name": "Python 3"
    }
  },
  "cells": [
    {
      "cell_type": "markdown",
      "metadata": {
        "id": "KdQ_lZFFGdpP"
      },
      "source": [
        "Import libraries"
      ]
    },
    {
      "cell_type": "code",
      "metadata": {
        "id": "kJ9E4H_mfA01"
      },
      "source": [
        "import json\n",
        "import torch\n",
        "import pandas as pd\n",
        "import numpy as np\n",
        "import torch\n",
        "import torch.nn as nn\n",
        "import torch.optim as optim\n",
        "from torch.utils.data import DataLoader, TensorDataset\n",
        "from matplotlib import pyplot as plt\n",
        "from tqdm import tqdm\n",
        "from sklearn.model_selection import train_test_split\n",
        "device = torch.device(\"cuda\" if torch.cuda.is_available() else \"cpu\")"
      ],
      "execution_count": null,
      "outputs": []
    },
    {
      "cell_type": "markdown",
      "metadata": {
        "id": "mPbxT-UZGjyR"
      },
      "source": [
        "Loading competition data"
      ]
    },
    {
      "cell_type": "code",
      "metadata": {
        "id": "wfAKKiTOR_Dc"
      },
      "source": [
        "train = pd.read_json('train.json', lines=True)\n",
        "test = pd.read_json('test.json', lines=True)\n",
        "sample_sub = pd.read_csv('sample_submission.csv')"
      ],
      "execution_count": null,
      "outputs": []
    },
    {
      "cell_type": "markdown",
      "metadata": {
        "id": "V72B3kj5GpcJ"
      },
      "source": [
        "Inspecting Elements"
      ]
    },
    {
      "cell_type": "code",
      "metadata": {
        "colab": {
          "base_uri": "https://localhost:8080/",
          "height": 603
        },
        "id": "5ri7bfaehiFb",
        "outputId": "e3e18748-f6ec-4023-b962-8face6c6170c"
      },
      "source": [
        "print(train.columns)\n",
        "print(train.shape)\n",
        "if ~ train.isnull().values.any(): print('No missing values')\n",
        "train.head()"
      ],
      "execution_count": null,
      "outputs": [
        {
          "output_type": "stream",
          "text": [
            "Index(['index', 'id', 'sequence', 'structure', 'predicted_loop_type',\n",
            "       'signal_to_noise', 'SN_filter', 'seq_length', 'seq_scored',\n",
            "       'reactivity_error', 'deg_error_Mg_pH10', 'deg_error_pH10',\n",
            "       'deg_error_Mg_50C', 'deg_error_50C', 'reactivity', 'deg_Mg_pH10',\n",
            "       'deg_pH10', 'deg_Mg_50C', 'deg_50C'],\n",
            "      dtype='object')\n",
            "(2400, 19)\n",
            "No missing values\n"
          ],
          "name": "stdout"
        },
        {
          "output_type": "execute_result",
          "data": {
            "text/html": [
              "<div>\n",
              "<style scoped>\n",
              "    .dataframe tbody tr th:only-of-type {\n",
              "        vertical-align: middle;\n",
              "    }\n",
              "\n",
              "    .dataframe tbody tr th {\n",
              "        vertical-align: top;\n",
              "    }\n",
              "\n",
              "    .dataframe thead th {\n",
              "        text-align: right;\n",
              "    }\n",
              "</style>\n",
              "<table border=\"1\" class=\"dataframe\">\n",
              "  <thead>\n",
              "    <tr style=\"text-align: right;\">\n",
              "      <th></th>\n",
              "      <th>index</th>\n",
              "      <th>id</th>\n",
              "      <th>sequence</th>\n",
              "      <th>structure</th>\n",
              "      <th>predicted_loop_type</th>\n",
              "      <th>signal_to_noise</th>\n",
              "      <th>SN_filter</th>\n",
              "      <th>seq_length</th>\n",
              "      <th>seq_scored</th>\n",
              "      <th>reactivity_error</th>\n",
              "      <th>deg_error_Mg_pH10</th>\n",
              "      <th>deg_error_pH10</th>\n",
              "      <th>deg_error_Mg_50C</th>\n",
              "      <th>deg_error_50C</th>\n",
              "      <th>reactivity</th>\n",
              "      <th>deg_Mg_pH10</th>\n",
              "      <th>deg_pH10</th>\n",
              "      <th>deg_Mg_50C</th>\n",
              "      <th>deg_50C</th>\n",
              "    </tr>\n",
              "  </thead>\n",
              "  <tbody>\n",
              "    <tr>\n",
              "      <th>0</th>\n",
              "      <td>0</td>\n",
              "      <td>id_001f94081</td>\n",
              "      <td>GGAAAAGCUCUAAUAACAGGAGACUAGGACUACGUAUUUCUAGGUA...</td>\n",
              "      <td>.....((((((.......)))).)).((.....((..((((((......</td>\n",
              "      <td>EEEEESSSSSSHHHHHHHSSSSBSSXSSIIIIISSIISSSSSSHHH...</td>\n",
              "      <td>6.894</td>\n",
              "      <td>1</td>\n",
              "      <td>107</td>\n",
              "      <td>68</td>\n",
              "      <td>[0.1359, 0.20700000000000002, 0.1633, 0.1452, ...</td>\n",
              "      <td>[0.26130000000000003, 0.38420000000000004, 0.1...</td>\n",
              "      <td>[0.2631, 0.28600000000000003, 0.0964, 0.1574, ...</td>\n",
              "      <td>[0.1501, 0.275, 0.0947, 0.18660000000000002, 0...</td>\n",
              "      <td>[0.2167, 0.34750000000000003, 0.188, 0.2124, 0...</td>\n",
              "      <td>[0.3297, 1.5693000000000001, 1.1227, 0.8686, 0...</td>\n",
              "      <td>[0.7556, 2.983, 0.2526, 1.3789, 0.637600000000...</td>\n",
              "      <td>[2.3375, 3.5060000000000002, 0.3008, 1.0108, 0...</td>\n",
              "      <td>[0.35810000000000003, 2.9683, 0.2589, 1.4552, ...</td>\n",
              "      <td>[0.6382, 3.4773, 0.9988, 1.3228, 0.78770000000...</td>\n",
              "    </tr>\n",
              "    <tr>\n",
              "      <th>1</th>\n",
              "      <td>1</td>\n",
              "      <td>id_0049f53ba</td>\n",
              "      <td>GGAAAAAGCGCGCGCGGUUAGCGCGCGCUUUUGCGCGCGCUGUACC...</td>\n",
              "      <td>.....(((((((((((((((((((((((....)))))))))).)))...</td>\n",
              "      <td>EEEEESSSSSSSSSSSSSSSSSSSSSSSHHHHSSSSSSSSSSBSSS...</td>\n",
              "      <td>0.193</td>\n",
              "      <td>0</td>\n",
              "      <td>107</td>\n",
              "      <td>68</td>\n",
              "      <td>[2.8272, 2.8272, 2.8272, 4.7343, 2.5676, 2.567...</td>\n",
              "      <td>[73705.3985, 73705.3985, 73705.3985, 73705.398...</td>\n",
              "      <td>[10.1986, 9.2418, 5.0933, 5.0933, 5.0933, 5.09...</td>\n",
              "      <td>[16.6174, 13.868, 8.1968, 8.1968, 8.1968, 8.19...</td>\n",
              "      <td>[15.4857, 7.9596, 13.3957, 5.8777, 5.8777, 5.8...</td>\n",
              "      <td>[0.0, 0.0, 0.0, 2.2965, 0.0, 0.0, 0.0, 0.0, 0....</td>\n",
              "      <td>[0.0, 0.0, 0.0, 0.0, 0.0, 0.0, 0.0, 0.0, 0.0, ...</td>\n",
              "      <td>[4.947, 4.4523, 0.0, 0.0, 0.0, 0.0, 0.0, 0.0, ...</td>\n",
              "      <td>[4.8511, 4.0426, 0.0, 0.0, 0.0, 0.0, 0.0, 0.0,...</td>\n",
              "      <td>[7.6692, 0.0, 10.9561, 0.0, 0.0, 0.0, 0.0, 0.0...</td>\n",
              "    </tr>\n",
              "    <tr>\n",
              "      <th>2</th>\n",
              "      <td>2</td>\n",
              "      <td>id_006f36f57</td>\n",
              "      <td>GGAAAGUGCUCAGAUAAGCUAAGCUCGAAUAGCAAUCGAAUAGAAU...</td>\n",
              "      <td>.....((((.((.....((((.(((.....)))..((((......)...</td>\n",
              "      <td>EEEEESSSSISSIIIIISSSSMSSSHHHHHSSSMMSSSSHHHHHHS...</td>\n",
              "      <td>8.800</td>\n",
              "      <td>1</td>\n",
              "      <td>107</td>\n",
              "      <td>68</td>\n",
              "      <td>[0.0931, 0.13290000000000002, 0.11280000000000...</td>\n",
              "      <td>[0.1365, 0.2237, 0.1812, 0.1333, 0.1148, 0.160...</td>\n",
              "      <td>[0.17020000000000002, 0.178, 0.111, 0.091, 0.0...</td>\n",
              "      <td>[0.1033, 0.1464, 0.1126, 0.09620000000000001, ...</td>\n",
              "      <td>[0.14980000000000002, 0.1761, 0.1517, 0.116700...</td>\n",
              "      <td>[0.44820000000000004, 1.4822, 1.1819, 0.743400...</td>\n",
              "      <td>[0.2504, 1.4021, 0.9804, 0.49670000000000003, ...</td>\n",
              "      <td>[2.243, 2.9361, 1.0553, 0.721, 0.6396000000000...</td>\n",
              "      <td>[0.5163, 1.6823000000000001, 1.0426, 0.7902, 0...</td>\n",
              "      <td>[0.9501000000000001, 1.7974999999999999, 1.499...</td>\n",
              "    </tr>\n",
              "    <tr>\n",
              "      <th>3</th>\n",
              "      <td>3</td>\n",
              "      <td>id_0082d463b</td>\n",
              "      <td>GGAAAAGCGCGCGCGCGCGCGCGAAAAAGCGCGCGCGCGCGCGCGC...</td>\n",
              "      <td>......((((((((((((((((......))))))))))))))))((...</td>\n",
              "      <td>EEEEEESSSSSSSSSSSSSSSSHHHHHHSSSSSSSSSSSSSSSSSS...</td>\n",
              "      <td>0.104</td>\n",
              "      <td>0</td>\n",
              "      <td>107</td>\n",
              "      <td>68</td>\n",
              "      <td>[3.5229, 6.0748, 3.0374, 3.0374, 3.0374, 3.037...</td>\n",
              "      <td>[73705.3985, 73705.3985, 73705.3985, 73705.398...</td>\n",
              "      <td>[11.8007, 12.7566, 5.7733, 5.7733, 5.7733, 5.7...</td>\n",
              "      <td>[121286.7181, 121286.7182, 121286.7181, 121286...</td>\n",
              "      <td>[15.3995, 8.1124, 7.7824, 7.7824, 7.7824, 7.78...</td>\n",
              "      <td>[0.0, 2.2399, 0.0, 0.0, 0.0, 0.0, 0.0, 0.0, 0....</td>\n",
              "      <td>[0.0, -0.5083, 0.0, 0.0, 0.0, 0.0, 0.0, 0.0, 0...</td>\n",
              "      <td>[3.4248, 6.8128, 0.0, 0.0, 0.0, 0.0, 0.0, 0.0,...</td>\n",
              "      <td>[0.0, -0.8365, 0.0, 0.0, 0.0, 0.0, 0.0, 0.0, 0...</td>\n",
              "      <td>[7.6692, -1.3223, 0.0, 0.0, 0.0, 0.0, 0.0, 0.0...</td>\n",
              "    </tr>\n",
              "    <tr>\n",
              "      <th>4</th>\n",
              "      <td>4</td>\n",
              "      <td>id_0087940f4</td>\n",
              "      <td>GGAAAAUAUAUAAUAUAUUAUAUAAAUAUAUUAUAGAAGUAUAAUA...</td>\n",
              "      <td>.....(((((((.((((((((((((.(((((((((....)))))))...</td>\n",
              "      <td>EEEEESSSSSSSBSSSSSSSSSSSSBSSSSSSSSSHHHHSSSSSSS...</td>\n",
              "      <td>0.423</td>\n",
              "      <td>0</td>\n",
              "      <td>107</td>\n",
              "      <td>68</td>\n",
              "      <td>[1.665, 2.1728, 2.0041, 1.2405, 0.620200000000...</td>\n",
              "      <td>[4.2139, 3.9637000000000002, 3.2467, 2.4716, 1...</td>\n",
              "      <td>[3.0942, 3.015, 2.1212, 2.0552, 0.881500000000...</td>\n",
              "      <td>[2.6717, 2.4818, 1.9919, 2.5484999999999998, 1...</td>\n",
              "      <td>[1.3285, 3.6173, 1.3057, 1.3021, 1.1507, 1.150...</td>\n",
              "      <td>[0.8267, 2.6577, 2.8481, 0.40090000000000003, ...</td>\n",
              "      <td>[2.1058, 3.138, 2.5437000000000003, 1.0932, 0....</td>\n",
              "      <td>[4.7366, 4.6243, 1.2068, 1.1538, 0.0, 0.0, 0.7...</td>\n",
              "      <td>[2.2052, 1.7947000000000002, 0.7457, 3.1233, 0...</td>\n",
              "      <td>[0.0, 5.1198, -0.3551, -0.3518, 0.0, 0.0, 0.0,...</td>\n",
              "    </tr>\n",
              "  </tbody>\n",
              "</table>\n",
              "</div>"
            ],
            "text/plain": [
              "   index  ...                                            deg_50C\n",
              "0      0  ...  [0.6382, 3.4773, 0.9988, 1.3228, 0.78770000000...\n",
              "1      1  ...  [7.6692, 0.0, 10.9561, 0.0, 0.0, 0.0, 0.0, 0.0...\n",
              "2      2  ...  [0.9501000000000001, 1.7974999999999999, 1.499...\n",
              "3      3  ...  [7.6692, -1.3223, 0.0, 0.0, 0.0, 0.0, 0.0, 0.0...\n",
              "4      4  ...  [0.0, 5.1198, -0.3551, -0.3518, 0.0, 0.0, 0.0,...\n",
              "\n",
              "[5 rows x 19 columns]"
            ]
          },
          "metadata": {
            "tags": []
          },
          "execution_count": 94
        }
      ]
    },
    {
      "cell_type": "code",
      "metadata": {
        "colab": {
          "base_uri": "https://localhost:8080/",
          "height": 395
        },
        "id": "HlFNF4ech3Pa",
        "outputId": "f8a76d8e-4fd3-45b1-e985-28dd390cdd92"
      },
      "source": [
        "print (test.columns)\n",
        "print(test.shape)\n",
        "if ~ test.isnull().values.any(): print('No missing values')\n",
        "test.head()"
      ],
      "execution_count": null,
      "outputs": [
        {
          "output_type": "stream",
          "text": [
            "Index(['index', 'id', 'sequence', 'structure', 'predicted_loop_type',\n",
            "       'seq_length', 'seq_scored'],\n",
            "      dtype='object')\n",
            "(3634, 7)\n",
            "No missing values\n"
          ],
          "name": "stdout"
        },
        {
          "output_type": "execute_result",
          "data": {
            "text/html": [
              "<div>\n",
              "<style scoped>\n",
              "    .dataframe tbody tr th:only-of-type {\n",
              "        vertical-align: middle;\n",
              "    }\n",
              "\n",
              "    .dataframe tbody tr th {\n",
              "        vertical-align: top;\n",
              "    }\n",
              "\n",
              "    .dataframe thead th {\n",
              "        text-align: right;\n",
              "    }\n",
              "</style>\n",
              "<table border=\"1\" class=\"dataframe\">\n",
              "  <thead>\n",
              "    <tr style=\"text-align: right;\">\n",
              "      <th></th>\n",
              "      <th>index</th>\n",
              "      <th>id</th>\n",
              "      <th>sequence</th>\n",
              "      <th>structure</th>\n",
              "      <th>predicted_loop_type</th>\n",
              "      <th>seq_length</th>\n",
              "      <th>seq_scored</th>\n",
              "    </tr>\n",
              "  </thead>\n",
              "  <tbody>\n",
              "    <tr>\n",
              "      <th>0</th>\n",
              "      <td>0</td>\n",
              "      <td>id_00073f8be</td>\n",
              "      <td>GGAAAAGUACGACUUGAGUACGGAAAACGUACCAACUCGAUUAAAA...</td>\n",
              "      <td>......((((((((((.(((((.....))))))))((((((((......</td>\n",
              "      <td>EEEEEESSSSSSSSSSBSSSSSHHHHHSSSSSSSSSSSSSSSSHHH...</td>\n",
              "      <td>107</td>\n",
              "      <td>68</td>\n",
              "    </tr>\n",
              "    <tr>\n",
              "      <th>1</th>\n",
              "      <td>1</td>\n",
              "      <td>id_000ae4237</td>\n",
              "      <td>GGAAACGGGUUCCGCGGAUUGCUGCUAAUAAGAGUAAUCUCUAAAU...</td>\n",
              "      <td>.....((((..((((((...(((((.....((((....)))).......</td>\n",
              "      <td>EEEEESSSSIISSSSSSIIISSSSSIIIIISSSSHHHHSSSSIIII...</td>\n",
              "      <td>130</td>\n",
              "      <td>91</td>\n",
              "    </tr>\n",
              "    <tr>\n",
              "      <th>2</th>\n",
              "      <td>2</td>\n",
              "      <td>id_00131c573</td>\n",
              "      <td>GGAAAACAAAACGGCCUGGAAGACGAAGGAAUUCGGCGCGAAGGCC...</td>\n",
              "      <td>...........((.(((.(.(..((..((..((((...))))..))...</td>\n",
              "      <td>EEEEEEEEEEESSISSSISISIISSIISSIISSSSHHHSSSSIISS...</td>\n",
              "      <td>107</td>\n",
              "      <td>68</td>\n",
              "    </tr>\n",
              "    <tr>\n",
              "      <th>3</th>\n",
              "      <td>3</td>\n",
              "      <td>id_00181fd34</td>\n",
              "      <td>GGAAAGGAUCUCUAUCGAAGGAUAGAGAUCGCUCGCGACGGCACGA...</td>\n",
              "      <td>......((((((((((....))))))))))((((((..((.(((.....</td>\n",
              "      <td>EEEEEESSSSSSSSSSHHHHSSSSSSSSSSSSSSSSIISSISSSHH...</td>\n",
              "      <td>107</td>\n",
              "      <td>68</td>\n",
              "    </tr>\n",
              "    <tr>\n",
              "      <th>4</th>\n",
              "      <td>4</td>\n",
              "      <td>id_0020473f7</td>\n",
              "      <td>GGAAACCCGCCCGCGCCCGCCCGCGCUGCUGCCGUGCCUCCUCUCC...</td>\n",
              "      <td>.....(((((((((((((((((((((((((((((((((((((((((...</td>\n",
              "      <td>EEEEESSSSSSSSSSSSSSSSSSSSSSSSSSSSSSSSSSSSSSSSS...</td>\n",
              "      <td>130</td>\n",
              "      <td>91</td>\n",
              "    </tr>\n",
              "  </tbody>\n",
              "</table>\n",
              "</div>"
            ],
            "text/plain": [
              "   index            id  ... seq_length seq_scored\n",
              "0      0  id_00073f8be  ...        107         68\n",
              "1      1  id_000ae4237  ...        130         91\n",
              "2      2  id_00131c573  ...        107         68\n",
              "3      3  id_00181fd34  ...        107         68\n",
              "4      4  id_0020473f7  ...        130         91\n",
              "\n",
              "[5 rows x 7 columns]"
            ]
          },
          "metadata": {
            "tags": []
          },
          "execution_count": 95
        }
      ]
    },
    {
      "cell_type": "code",
      "metadata": {
        "colab": {
          "base_uri": "https://localhost:8080/",
          "height": 289
        },
        "id": "DK44j_LEiOx1",
        "outputId": "6abb7105-036b-4052-f37f-4bf4e9ea9394"
      },
      "source": [
        "print (sample_sub.columns)\n",
        "print(sample_sub.shape)\n",
        "if ~ sample_sub.isnull().values.any(): print('No missing values')\n",
        "sample_sub.head()"
      ],
      "execution_count": null,
      "outputs": [
        {
          "output_type": "stream",
          "text": [
            "Index(['id_seqpos', 'reactivity', 'deg_Mg_pH10', 'deg_pH10', 'deg_Mg_50C',\n",
            "       'deg_50C'],\n",
            "      dtype='object')\n",
            "(457953, 6)\n",
            "No missing values\n"
          ],
          "name": "stdout"
        },
        {
          "output_type": "execute_result",
          "data": {
            "text/html": [
              "<div>\n",
              "<style scoped>\n",
              "    .dataframe tbody tr th:only-of-type {\n",
              "        vertical-align: middle;\n",
              "    }\n",
              "\n",
              "    .dataframe tbody tr th {\n",
              "        vertical-align: top;\n",
              "    }\n",
              "\n",
              "    .dataframe thead th {\n",
              "        text-align: right;\n",
              "    }\n",
              "</style>\n",
              "<table border=\"1\" class=\"dataframe\">\n",
              "  <thead>\n",
              "    <tr style=\"text-align: right;\">\n",
              "      <th></th>\n",
              "      <th>id_seqpos</th>\n",
              "      <th>reactivity</th>\n",
              "      <th>deg_Mg_pH10</th>\n",
              "      <th>deg_pH10</th>\n",
              "      <th>deg_Mg_50C</th>\n",
              "      <th>deg_50C</th>\n",
              "    </tr>\n",
              "  </thead>\n",
              "  <tbody>\n",
              "    <tr>\n",
              "      <th>0</th>\n",
              "      <td>id_00073f8be_0</td>\n",
              "      <td>0.0</td>\n",
              "      <td>0.0</td>\n",
              "      <td>0.0</td>\n",
              "      <td>0.0</td>\n",
              "      <td>0.0</td>\n",
              "    </tr>\n",
              "    <tr>\n",
              "      <th>1</th>\n",
              "      <td>id_00073f8be_1</td>\n",
              "      <td>0.0</td>\n",
              "      <td>0.0</td>\n",
              "      <td>0.0</td>\n",
              "      <td>0.0</td>\n",
              "      <td>0.0</td>\n",
              "    </tr>\n",
              "    <tr>\n",
              "      <th>2</th>\n",
              "      <td>id_00073f8be_2</td>\n",
              "      <td>0.0</td>\n",
              "      <td>0.0</td>\n",
              "      <td>0.0</td>\n",
              "      <td>0.0</td>\n",
              "      <td>0.0</td>\n",
              "    </tr>\n",
              "    <tr>\n",
              "      <th>3</th>\n",
              "      <td>id_00073f8be_3</td>\n",
              "      <td>0.0</td>\n",
              "      <td>0.0</td>\n",
              "      <td>0.0</td>\n",
              "      <td>0.0</td>\n",
              "      <td>0.0</td>\n",
              "    </tr>\n",
              "    <tr>\n",
              "      <th>4</th>\n",
              "      <td>id_00073f8be_4</td>\n",
              "      <td>0.0</td>\n",
              "      <td>0.0</td>\n",
              "      <td>0.0</td>\n",
              "      <td>0.0</td>\n",
              "      <td>0.0</td>\n",
              "    </tr>\n",
              "  </tbody>\n",
              "</table>\n",
              "</div>"
            ],
            "text/plain": [
              "        id_seqpos  reactivity  deg_Mg_pH10  deg_pH10  deg_Mg_50C  deg_50C\n",
              "0  id_00073f8be_0         0.0          0.0       0.0         0.0      0.0\n",
              "1  id_00073f8be_1         0.0          0.0       0.0         0.0      0.0\n",
              "2  id_00073f8be_2         0.0          0.0       0.0         0.0      0.0\n",
              "3  id_00073f8be_3         0.0          0.0       0.0         0.0      0.0\n",
              "4  id_00073f8be_4         0.0          0.0       0.0         0.0      0.0"
            ]
          },
          "metadata": {
            "tags": []
          },
          "execution_count": 96
        }
      ]
    },
    {
      "cell_type": "code",
      "metadata": {
        "colab": {
          "base_uri": "https://localhost:8080/",
          "height": 392
        },
        "id": "P39C8Ie87wZk",
        "outputId": "261ed554-583f-4ffb-efa3-0ed0bbf6d4ac"
      },
      "source": [
        "import seaborn as sns\n",
        "fig, ax = plt.subplots(1, 2, figsize = (15, 5))\n",
        "sns.kdeplot(train['signal_to_noise'], shade = True, ax = ax[0])\n",
        "sns.countplot(train['SN_filter'], ax = ax[1])\n",
        "\n",
        "ax[0].set_title('Signal/Noise Distribution')\n",
        "ax[1].set_title('Signal/Noise Filter Distribution');"
      ],
      "execution_count": null,
      "outputs": [
        {
          "output_type": "stream",
          "text": [
            "/usr/local/lib/python3.6/dist-packages/seaborn/_decorators.py:43: FutureWarning: Pass the following variable as a keyword arg: x. From version 0.12, the only valid positional argument will be `data`, and passing other arguments without an explicit keyword will result in an error or misinterpretation.\n",
            "  FutureWarning\n"
          ],
          "name": "stderr"
        },
        {
          "output_type": "display_data",
          "data": {
            "image/png": "[encoded data removed]",
            "text/plain": [
              "<Figure size 1080x360 with 2 Axes>"
            ]
          },
          "metadata": {
            "tags": [],
            "needs_background": "light"
          }
        }
      ]
    },
    {
      "cell_type": "markdown",
      "metadata": {
        "id": "XADJwz8skrUS"
      },
      "source": [
        "Preprocessing"
      ]
    },
    {
      "cell_type": "code",
      "metadata": {
        "id": "aeoFNa9jkqjU"
      },
      "source": [
        "#target columns\n",
        "target_cols = ['reactivity', 'deg_Mg_pH10', 'deg_pH10', 'deg_Mg_50C', 'deg_50C']"
      ],
      "execution_count": null,
      "outputs": []
    },
    {
      "cell_type": "markdown",
      "metadata": {
        "id": "rx1xICt4k1dC"
      },
      "source": [
        "Tokenize RNA sequence"
      ]
    },
    {
      "cell_type": "code",
      "metadata": {
        "id": "cLolJMyvk5Fa"
      },
      "source": [
        "token2int = {x:i for i, x in enumerate('().ACGUBEHIMSX')}"
      ],
      "execution_count": null,
      "outputs": []
    },
    {
      "cell_type": "code",
      "metadata": {
        "id": "Hab4VZ8kk-7h"
      },
      "source": [
        "def preprocess_inputs(df, cols=['sequence', 'structure', 'predicted_loop_type']):\n",
        "    return np.transpose(\n",
        "        np.array(\n",
        "            df[cols]\n",
        "            .applymap(lambda seq: [token2int[x] for x in seq])\n",
        "            .values\n",
        "            .tolist()\n",
        "        ),\n",
        "        (0, 2, 1)\n",
        "    )"
      ],
      "execution_count": null,
      "outputs": []
    },
    {
      "cell_type": "code",
      "metadata": {
        "colab": {
          "base_uri": "https://localhost:8080/"
        },
        "id": "ODbgvu8XlCK9",
        "outputId": "4db414bc-bf6a-4850-eba8-4a41773305ad"
      },
      "source": [
        "train_filtered = train.loc[train.SN_filter == 1]\n",
        "train_inputs = torch.tensor(preprocess_inputs(train_filtered)).to(device)\n",
        "print(\"input shape: \", train_inputs.shape)\n",
        "train_labels = torch.tensor(\n",
        "    np.array(train_filtered[target_cols].values.tolist()).transpose(0, 2, 1)\n",
        ").float().to(device)\n",
        "print(\"output shape: \", train_labels.shape)"
      ],
      "execution_count": null,
      "outputs": [
        {
          "output_type": "stream",
          "text": [
            "input shape:  torch.Size([1589, 107, 3])\n",
            "output shape:  torch.Size([1589, 68, 5])\n"
          ],
          "name": "stdout"
        }
      ]
    },
    {
      "cell_type": "markdown",
      "metadata": {
        "id": "lAaaUYnvlRwZ"
      },
      "source": [
        "Model"
      ]
    },
    {
      "cell_type": "code",
      "metadata": {
        "id": "CIp2epwylRJa"
      },
      "source": [
        "import torch.nn as nn\n",
        "\n",
        "class LSTM(nn.Module):\n",
        "    def __init__(self, seq_len=107, pred_len=68, dropout=0.5, embed_dim=100, hidden_dim=128, \n",
        "                 hidden_layers=3):\n",
        "      \n",
        "        super(LSTM, self).__init__()\n",
        "        \n",
        "        self.pred_len = pred_len\n",
        "\n",
        "        self.embeding = nn.Embedding(num_embeddings=len(token2int), embedding_dim=embed_dim)\n",
        "        self.rnn = nn.LSTM(\n",
        "            input_size=embed_dim * 3,\n",
        "            hidden_size=hidden_dim,\n",
        "            num_layers=hidden_layers,\n",
        "            dropout=dropout,\n",
        "            bidirectional=True,\n",
        "            batch_first=True,\n",
        "        )\n",
        "               \n",
        "        self.linear = nn.Linear(hidden_dim * 2, 5)\n",
        "        \n",
        "    \n",
        "    def forward(self, seqs):\n",
        "        embed = self.embeding(seqs)\n",
        "        reshaped = torch.reshape(embed, (-1, embed.shape[1], embed.shape[2] * embed.shape[3]))\n",
        "        output, hidden = self.rnn(reshaped)\n",
        "        truncated = output[:, : self.pred_len, :]\n",
        "        out = self.linear(truncated)\n",
        "        return out"
      ],
      "execution_count": null,
      "outputs": []
    },
    {
      "cell_type": "code",
      "metadata": {
        "id": "cy7apEtjlcWL"
      },
      "source": [
        "mse_loss = nn.MSELoss()\n",
        "def compute_loss(batch_X, batch_Y, model, optimizer=None, is_train=True):\n",
        "    model.train(is_train)\n",
        "\n",
        "    pred_Y = model(batch_X)\n",
        "\n",
        "    loss = mse_loss(pred_Y, batch_Y)\n",
        "\n",
        "    if is_train:\n",
        "        optimizer.zero_grad()\n",
        "        loss.backward()\n",
        "        optimizer.step()\n",
        "\n",
        "    return loss.item()"
      ],
      "execution_count": null,
      "outputs": []
    },
    {
      "cell_type": "markdown",
      "metadata": {
        "id": "KnZ3DhTFmbdT"
      },
      "source": [
        "K-Fold"
      ]
    },
    {
      "cell_type": "code",
      "metadata": {
        "id": "EWQzG4gqn_Tq"
      },
      "source": [
        "#basic training configuration\n",
        "FOLDS = 2\n",
        "EPOCHS = 50\n",
        "BATCH_SIZE = 64\n",
        "VERBOSE = 2\n",
        "LR = 0.01"
      ],
      "execution_count": null,
      "outputs": []
    },
    {
      "cell_type": "code",
      "metadata": {
        "id": "FvezxuIrn616"
      },
      "source": [
        "#get different test sets and process each\n",
        "public_df = test.query(\"seq_length == 107\").copy()\n",
        "private_df = test.query(\"seq_length == 130\").copy()\n",
        "\n",
        "public_inputs = torch.tensor(preprocess_inputs(public_df)).to(device)\n",
        "private_inputs = torch.tensor(preprocess_inputs(private_df)).to(device)\n",
        "\n",
        "public_loader = DataLoader(TensorDataset(public_inputs), shuffle=False, batch_size=BATCH_SIZE)\n",
        "private_loader = DataLoader(TensorDataset(private_inputs), shuffle=False, batch_size=BATCH_SIZE)"
      ],
      "execution_count": null,
      "outputs": []
    },
    {
      "cell_type": "code",
      "metadata": {
        "colab": {
          "base_uri": "https://localhost:8080/"
        },
        "id": "lPNL9ePeoIDL",
        "outputId": "6b4e55d2-f51c-4b31-b522-83b0a0d877ee"
      },
      "source": [
        "from sklearn.model_selection import KFold\n",
        "lstm_histories = []\n",
        "lstm_private_preds = np.zeros((private_df.shape[0], 130, 5))\n",
        "lstm_public_preds = np.zeros((public_df.shape[0], 107, 5))\n",
        "\n",
        "kfold = KFold(FOLDS, shuffle=True, random_state=2020)\n",
        "\n",
        "for k, (train_index, val_index) in enumerate(kfold.split(train_inputs)):\n",
        "    train_dataset = TensorDataset(train_inputs[train_index], train_labels[train_index])\n",
        "    val_dataset = TensorDataset(train_inputs[val_index], train_labels[val_index])\n",
        "\n",
        "    train_loader = DataLoader(train_dataset, shuffle=True, batch_size=BATCH_SIZE)\n",
        "    val_loader = DataLoader(val_dataset, shuffle=False, batch_size=BATCH_SIZE)\n",
        "\n",
        "    model = LSTM().to(device)\n",
        "    optimizer = optim.Adam(model.parameters(), lr=LR)\n",
        "\n",
        "    train_losses = []\n",
        "    val_losses = []\n",
        "    for epoch in tqdm(range(EPOCHS)):\n",
        "        train_losses_batch = []\n",
        "        val_losses_batch = []\n",
        "        for (batch_X, batch_Y) in train_loader:\n",
        "            train_loss = compute_loss(batch_X, batch_Y, model, optimizer=optimizer, is_train=True)\n",
        "            train_losses_batch.append(train_loss)\n",
        "        for (batch_X, batch_Y) in val_loader:\n",
        "            val_loss = compute_loss(batch_X, batch_Y, model, optimizer=optimizer, is_train=False)\n",
        "            val_losses_batch.append(val_loss)\n",
        "        train_losses.append(sum(train_losses_batch) / len(train_losses_batch))\n",
        "        val_losses.append(sum(val_losses_batch) / len(val_losses_batch))\n",
        "    model_state = model.state_dict()\n",
        "    del model\n",
        "            \n",
        "    lstm_histories.append({'train_loss': train_losses, 'val_loss': val_losses})\n",
        "\n",
        "\n",
        "    lstm_short = LSTM(seq_len=107, pred_len=107).to(device)\n",
        "    lstm_short.load_state_dict(model_state)\n",
        "    lstm_short.eval()\n",
        "    lstm_public_pred = np.ndarray((0, 107, 5))\n",
        "    for batch in public_loader:\n",
        "        batch_X = batch[0]\n",
        "        pred = lstm_short(batch_X).detach().cpu().numpy()\n",
        "        lstm_public_pred = np.concatenate([lstm_public_pred, pred], axis=0)\n",
        "    lstm_public_preds += lstm_public_pred / FOLDS\n",
        "\n",
        "    lstm_long = LSTM(seq_len=130, pred_len=130).to(device)\n",
        "    lstm_long.load_state_dict(model_state)\n",
        "    lstm_long.eval()\n",
        "    lstm_private_pred = np.ndarray((0, 130, 5))\n",
        "    for batch in private_loader:\n",
        "        batch_X = batch[0]\n",
        "        pred = lstm_long(batch_X).detach().cpu().numpy()\n",
        "        lstm_private_pred = np.concatenate([lstm_private_pred, pred], axis=0)\n",
        "    lstm_private_preds += lstm_private_pred / FOLDS\n",
        "    \n",
        "    del lstm_short, lstm_long"
      ],
      "execution_count": null,
      "outputs": [
        {
          "output_type": "stream",
          "text": [
            "100%|██████████| 50/50 [17:37<00:00, 21.16s/it]\n",
            "100%|██████████| 50/50 [17:32<00:00, 21.05s/it]\n"
          ],
          "name": "stderr"
        }
      ]
    },
    {
      "cell_type": "code",
      "metadata": {
        "colab": {
          "base_uri": "https://localhost:8080/",
          "height": 457
        },
        "id": "XydZheNft-Vt",
        "outputId": "4849efa1-7c2d-4bb0-a840-688de9fdcbc3"
      },
      "source": [
        "fig, ax = plt.subplots(1, 2, figsize = (20, 10))\n",
        "for history in lstm_histories:\n",
        "    ax[0].plot(history['train_loss'], 'b')\n",
        "    ax[0].plot(history['val_loss'], 'r')\n",
        "\n",
        "ax[0].set_title('LSTM')\n",
        "\n",
        "\n",
        "ax[0].legend(['train', 'validation'], loc = 'upper right')\n",
        "\n",
        "ax[0].set_ylabel('Loss')\n",
        "ax[0].set_xlabel('Epoch');"
      ],
      "execution_count": null,
      "outputs": [
        {
          "output_type": "display_data",
          "data": {
            "image/png": "[encoded data removed]",
            "text/plain": [
              "<Figure size 1440x720 with 2 Axes>"
            ]
          },
          "metadata": {
            "tags": [],
            "needs_background": "light"
          }
        }
      ]
    },
    {
      "cell_type": "markdown",
      "metadata": {
        "id": "0p-ictkjvk2G"
      },
      "source": [
        "Submission"
      ]
    },
    {
      "cell_type": "code",
      "metadata": {
        "id": "xVoLNAzGvmfL"
      },
      "source": [
        "public_df = test.query(\"seq_length == 107\").copy()\n",
        "private_df = test.query(\"seq_length == 130\").copy()\n",
        "\n",
        "public_inputs = preprocess_inputs(public_df)\n",
        "private_inputs = preprocess_inputs(private_df)"
      ],
      "execution_count": null,
      "outputs": []
    },
    {
      "cell_type": "code",
      "metadata": {
        "colab": {
          "base_uri": "https://localhost:8080/",
          "height": 202
        },
        "id": "sxV_JMdev-py",
        "outputId": "9864fb78-0a21-4ccf-9f9d-0e1381bf4089"
      },
      "source": [
        "preds_lstm = []\n",
        "\n",
        "for df, preds in [(public_df, lstm_public_preds), (private_df, lstm_private_preds)]:\n",
        "    for i, uid in enumerate(df.id):\n",
        "        single_pred = preds[i]\n",
        "\n",
        "        single_df = pd.DataFrame(single_pred, columns=target_cols)\n",
        "        single_df['id_seqpos'] = [f'{uid}_{x}' for x in range(single_df.shape[0])]\n",
        "\n",
        "        preds_lstm.append(single_df)\n",
        "\n",
        "preds_lstm_df = pd.concat(preds_lstm)\n",
        "preds_lstm_df.head()"
      ],
      "execution_count": null,
      "outputs": [
        {
          "output_type": "execute_result",
          "data": {
            "text/html": [
              "<div>\n",
              "<style scoped>\n",
              "    .dataframe tbody tr th:only-of-type {\n",
              "        vertical-align: middle;\n",
              "    }\n",
              "\n",
              "    .dataframe tbody tr th {\n",
              "        vertical-align: top;\n",
              "    }\n",
              "\n",
              "    .dataframe thead th {\n",
              "        text-align: right;\n",
              "    }\n",
              "</style>\n",
              "<table border=\"1\" class=\"dataframe\">\n",
              "  <thead>\n",
              "    <tr style=\"text-align: right;\">\n",
              "      <th></th>\n",
              "      <th>reactivity</th>\n",
              "      <th>deg_Mg_pH10</th>\n",
              "      <th>deg_pH10</th>\n",
              "      <th>deg_Mg_50C</th>\n",
              "      <th>deg_50C</th>\n",
              "      <th>id_seqpos</th>\n",
              "    </tr>\n",
              "  </thead>\n",
              "  <tbody>\n",
              "    <tr>\n",
              "      <th>0</th>\n",
              "      <td>0.834826</td>\n",
              "      <td>0.687203</td>\n",
              "      <td>2.083668</td>\n",
              "      <td>0.583259</td>\n",
              "      <td>0.754933</td>\n",
              "      <td>id_00073f8be_0</td>\n",
              "    </tr>\n",
              "    <tr>\n",
              "      <th>1</th>\n",
              "      <td>2.709341</td>\n",
              "      <td>3.959845</td>\n",
              "      <td>5.009376</td>\n",
              "      <td>3.786767</td>\n",
              "      <td>3.160927</td>\n",
              "      <td>id_00073f8be_1</td>\n",
              "    </tr>\n",
              "    <tr>\n",
              "      <th>2</th>\n",
              "      <td>1.321399</td>\n",
              "      <td>0.562742</td>\n",
              "      <td>0.740488</td>\n",
              "      <td>0.800006</td>\n",
              "      <td>0.770328</td>\n",
              "      <td>id_00073f8be_2</td>\n",
              "    </tr>\n",
              "    <tr>\n",
              "      <th>3</th>\n",
              "      <td>1.404334</td>\n",
              "      <td>1.188590</td>\n",
              "      <td>1.247695</td>\n",
              "      <td>1.555338</td>\n",
              "      <td>1.390971</td>\n",
              "      <td>id_00073f8be_3</td>\n",
              "    </tr>\n",
              "    <tr>\n",
              "      <th>4</th>\n",
              "      <td>1.013102</td>\n",
              "      <td>0.744308</td>\n",
              "      <td>0.822424</td>\n",
              "      <td>0.955020</td>\n",
              "      <td>0.919603</td>\n",
              "      <td>id_00073f8be_4</td>\n",
              "    </tr>\n",
              "  </tbody>\n",
              "</table>\n",
              "</div>"
            ],
            "text/plain": [
              "   reactivity  deg_Mg_pH10  deg_pH10  deg_Mg_50C   deg_50C       id_seqpos\n",
              "0    0.834826     0.687203  2.083668    0.583259  0.754933  id_00073f8be_0\n",
              "1    2.709341     3.959845  5.009376    3.786767  3.160927  id_00073f8be_1\n",
              "2    1.321399     0.562742  0.740488    0.800006  0.770328  id_00073f8be_2\n",
              "3    1.404334     1.188590  1.247695    1.555338  1.390971  id_00073f8be_3\n",
              "4    1.013102     0.744308  0.822424    0.955020  0.919603  id_00073f8be_4"
            ]
          },
          "metadata": {
            "tags": []
          },
          "execution_count": 109
        }
      ]
    },
    {
      "cell_type": "code",
      "metadata": {
        "colab": {
          "base_uri": "https://localhost:8080/",
          "height": 202
        },
        "id": "sEy5NXLbwC-3",
        "outputId": "3149b94f-db8c-414b-cdd4-8647e11cab76"
      },
      "source": [
        "submission = sample_sub[['id_seqpos']].merge(preds_lstm_df, on=['id_seqpos'])\n",
        "\n",
        "#sanity check\n",
        "submission.head()"
      ],
      "execution_count": null,
      "outputs": [
        {
          "output_type": "execute_result",
          "data": {
            "text/html": [
              "<div>\n",
              "<style scoped>\n",
              "    .dataframe tbody tr th:only-of-type {\n",
              "        vertical-align: middle;\n",
              "    }\n",
              "\n",
              "    .dataframe tbody tr th {\n",
              "        vertical-align: top;\n",
              "    }\n",
              "\n",
              "    .dataframe thead th {\n",
              "        text-align: right;\n",
              "    }\n",
              "</style>\n",
              "<table border=\"1\" class=\"dataframe\">\n",
              "  <thead>\n",
              "    <tr style=\"text-align: right;\">\n",
              "      <th></th>\n",
              "      <th>id_seqpos</th>\n",
              "      <th>reactivity</th>\n",
              "      <th>deg_Mg_pH10</th>\n",
              "      <th>deg_pH10</th>\n",
              "      <th>deg_Mg_50C</th>\n",
              "      <th>deg_50C</th>\n",
              "    </tr>\n",
              "  </thead>\n",
              "  <tbody>\n",
              "    <tr>\n",
              "      <th>0</th>\n",
              "      <td>id_00073f8be_0</td>\n",
              "      <td>0.834826</td>\n",
              "      <td>0.687203</td>\n",
              "      <td>2.083668</td>\n",
              "      <td>0.583259</td>\n",
              "      <td>0.754933</td>\n",
              "    </tr>\n",
              "    <tr>\n",
              "      <th>1</th>\n",
              "      <td>id_00073f8be_1</td>\n",
              "      <td>2.709341</td>\n",
              "      <td>3.959845</td>\n",
              "      <td>5.009376</td>\n",
              "      <td>3.786767</td>\n",
              "      <td>3.160927</td>\n",
              "    </tr>\n",
              "    <tr>\n",
              "      <th>2</th>\n",
              "      <td>id_00073f8be_2</td>\n",
              "      <td>1.321399</td>\n",
              "      <td>0.562742</td>\n",
              "      <td>0.740488</td>\n",
              "      <td>0.800006</td>\n",
              "      <td>0.770328</td>\n",
              "    </tr>\n",
              "    <tr>\n",
              "      <th>3</th>\n",
              "      <td>id_00073f8be_3</td>\n",
              "      <td>1.404334</td>\n",
              "      <td>1.188590</td>\n",
              "      <td>1.247695</td>\n",
              "      <td>1.555338</td>\n",
              "      <td>1.390971</td>\n",
              "    </tr>\n",
              "    <tr>\n",
              "      <th>4</th>\n",
              "      <td>id_00073f8be_4</td>\n",
              "      <td>1.013102</td>\n",
              "      <td>0.744308</td>\n",
              "      <td>0.822424</td>\n",
              "      <td>0.955020</td>\n",
              "      <td>0.919603</td>\n",
              "    </tr>\n",
              "  </tbody>\n",
              "</table>\n",
              "</div>"
            ],
            "text/plain": [
              "        id_seqpos  reactivity  deg_Mg_pH10  deg_pH10  deg_Mg_50C   deg_50C\n",
              "0  id_00073f8be_0    0.834826     0.687203  2.083668    0.583259  0.754933\n",
              "1  id_00073f8be_1    2.709341     3.959845  5.009376    3.786767  3.160927\n",
              "2  id_00073f8be_2    1.321399     0.562742  0.740488    0.800006  0.770328\n",
              "3  id_00073f8be_3    1.404334     1.188590  1.247695    1.555338  1.390971\n",
              "4  id_00073f8be_4    1.013102     0.744308  0.822424    0.955020  0.919603"
            ]
          },
          "metadata": {
            "tags": []
          },
          "execution_count": 110
        }
      ]
    },
    {
      "cell_type": "code",
      "metadata": {
        "colab": {
          "base_uri": "https://localhost:8080/"
        },
        "id": "tndhEoXoyn_e",
        "outputId": "1128fc91-9e78-4128-fc01-72ef4aebcf87"
      },
      "source": [
        "submission.to_csv('submission.csv', index=False)\n",
        "print('Submission saved')"
      ],
      "execution_count": null,
      "outputs": [
        {
          "output_type": "stream",
          "text": [
            "Submission saved\n"
          ],
          "name": "stdout"
        }
      ]
    }
  ]
}